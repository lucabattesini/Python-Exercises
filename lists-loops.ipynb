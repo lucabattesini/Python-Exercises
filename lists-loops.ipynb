{
 "cells": [
  {
   "cell_type": "markdown",
   "metadata": {},
   "source": [
    "# Lists and Loops Exercises"
   ]
  },
  {
   "cell_type": "markdown",
   "metadata": {},
   "source": [
    "## Exercise 1\n",
    "\n",
    "Given a list of numbers, write a program to print each number in the list.\n",
    "\n",
    "```python\n",
    "list = [1, 5, 8, 45, 62, 78, 92, 91, 12, 1, 0, 5]\n",
    "```"
   ]
  },
  {
   "cell_type": "code",
   "execution_count": null,
   "metadata": {},
   "outputs": [],
   "source": [
    "list = [1, 5, 8, 45, 62, 78, 92, 91, 12, 1, 0, 5]\n",
    "\n",
    "for number in list:\n",
    "    print(number)"
   ]
  },
  {
   "cell_type": "markdown",
   "metadata": {},
   "source": [
    "## Exercise 2\n",
    "\n",
    "Given a list of numbers, write a program that adds up all the numbers in the list and prints the total.\n",
    "\n",
    "```python\n",
    "list = [1, 5, 8, 45, 17, 78, 4, 91, 12, 1, 0, 5]\n",
    "```"
   ]
  },
  {
   "cell_type": "code",
   "execution_count": null,
   "metadata": {},
   "outputs": [],
   "source": [
    "list = [1, 5, 8, 45, 17, 78, 4, 91, 12, 1, 0, 5]\n",
    "for number in list:\n",
    "    x = x + number\n",
    "print(x)"
   ]
  },
  {
   "cell_type": "markdown",
   "metadata": {},
   "source": [
    "## Exercise 3\n",
    "\n",
    "Write a program that finds the maximum and minimum values in a list of numbers.\n",
    "\n",
    "```python\n",
    "list = [1, 5, 8, 45, 17, 78, 4, 91, 12, 1, 0, 5]\n",
    "```"
   ]
  },
  {
   "cell_type": "code",
   "execution_count": 8,
   "metadata": {},
   "outputs": [
    {
     "name": "stdout",
     "output_type": "stream",
     "text": [
      "Maior numero: 91\n",
      "Menor número 0\n"
     ]
    }
   ],
   "source": [
    "list = [1, 5, 8, 45, 17, 78, 4, 91, 12, 1, 0, 5]\n",
    "for number in list:\n",
    "    if number == min(list):\n",
    "        print(\"Menor número\", number)\n",
    "    elif number == max(list):\n",
    "        print(\"Maior numero:\", number)"
   ]
  },
  {
   "cell_type": "markdown",
   "metadata": {},
   "source": [
    "## Exercise 4\n",
    "\n",
    "Write a program that separates a list of numbers into two new lists, one for even numbers and one for odd numbers.\n",
    "\n",
    "```python\n",
    "list = [1, 5, 8, 7, 17, 78, 4, 91, 12, 1, 0, 3]\n",
    "```"
   ]
  },
  {
   "cell_type": "code",
   "execution_count": null,
   "metadata": {},
   "outputs": [],
   "source": [
    "list = [1, 5, 8, 7, 17, 78, 4, 91, 12, 1, 0, 3]\n",
    "list_even = []\n",
    "list_odd = []\n",
    "\n",
    "for number in list:\n",
    "    if number % 2 == 0:\n",
    "        list_even.append(number)\n",
    "    elif number % 2 != 0:\n",
    "        list_odd.append(number)\n",
    "\n",
    "print(list_even)\n",
    "print(list_odd)"
   ]
  },
  {
   "cell_type": "markdown",
   "metadata": {},
   "source": [
    "## Exercise 5\n",
    "\n",
    "Write a program that counts how many times each element appears in a list.\n",
    "\n",
    "```python\n",
    "list = [1, 5, 8, 45, 17, 78, 4, 91, 12, 1, 0, 5, 1, 5, 8, 7, 17, 78, 4, 91, 12, 1, 0, 3]\n",
    "```"
   ]
  },
  {
   "cell_type": "code",
   "execution_count": null,
   "metadata": {},
   "outputs": [],
   "source": [
    "list = [1, 5, 8, 45, 17, 78, 4, 91, 12, 1, 0, 5, 1, 5, 8, 7, 17, 78, 4, 91, 12, 1, 0, 3]\n",
    "for index, number in list:\n",
    "    if number = "
   ]
  },
  {
   "cell_type": "markdown",
   "metadata": {},
   "source": [
    "## Exercise 6\n",
    "\n",
    "Write a program that rotates a list by a position.\n",
    "\n",
    "Example:\n",
    "[1, 5, 23, 8] => [8, 23, 5, 1]\n",
    "\n",
    "```python\n",
    "list = [1, 5, 8, 7, 17, 78, 4, 91, 12, 1, 0, 3]\n",
    "```"
   ]
  },
  {
   "cell_type": "code",
   "execution_count": null,
   "metadata": {},
   "outputs": [],
   "source": [
    "list = [1, 5, 8, 7, 17, 78, 4, 91, 12, 1, 0, 3]\n",
    "new_list=[]\n",
    "for number in list:\n",
    "    "
   ]
  }
 ],
 "metadata": {
  "kernelspec": {
   "display_name": "Python 3",
   "language": "python",
   "name": "python3"
  },
  "language_info": {
   "codemirror_mode": {
    "name": "ipython",
    "version": 3
   },
   "file_extension": ".py",
   "mimetype": "text/x-python",
   "name": "python",
   "nbconvert_exporter": "python",
   "pygments_lexer": "ipython3",
   "version": "3.11.4"
  },
  "orig_nbformat": 4
 },
 "nbformat": 4,
 "nbformat_minor": 2
}
