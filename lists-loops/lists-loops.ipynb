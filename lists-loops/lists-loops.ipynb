{
 "cells": [
  {
   "cell_type": "markdown",
   "metadata": {},
   "source": [
    "# Lists and Loops Exercises"
   ]
  },
  {
   "cell_type": "markdown",
   "metadata": {},
   "source": [
    "## Exercise 1\n",
    "\n",
    "Given a list of numbers, write a program to print each number in the list.\n",
    "\n",
    "```python\n",
    "list = [1, 5, 8, 45, 62, 78, 92, 91, 12, 1, 0, 5]\n",
    "```"
   ]
  },
  {
   "cell_type": "code",
   "execution_count": null,
   "metadata": {
    "vscode": {
     "languageId": "plaintext"
    }
   },
   "outputs": [],
   "source": []
  },
  {
   "cell_type": "markdown",
   "metadata": {},
   "source": [
    "## Exercise 2\n",
    "\n",
    "Given a list of numbers, write a program that adds up all the numbers in the list and prints the total.\n",
    "\n",
    "```python\n",
    "list = [1, 5, 8, 45, 17, 78, 4, 91, 12, 1, 0, 5]\n",
    "```"
   ]
  },
  {
   "cell_type": "markdown",
   "metadata": {},
   "source": []
  },
  {
   "cell_type": "markdown",
   "metadata": {},
   "source": [
    "## Exercise 3\n",
    "\n",
    "Write a program that finds the maximum and minimum values in a list of numbers.\n",
    "\n",
    "```python\n",
    "list = [1, 5, 8, 45, 17, 78, 4, 91, 12, 1, 0, 5]\n",
    "```"
   ]
  },
  {
   "cell_type": "code",
   "execution_count": null,
   "metadata": {
    "vscode": {
     "languageId": "plaintext"
    }
   },
   "outputs": [],
   "source": []
  },
  {
   "cell_type": "markdown",
   "metadata": {},
   "source": [
    "## Exercise 4\n",
    "\n",
    "Write a program that separates a list of numbers into two new lists, one for even numbers and one for odd numbers.\n",
    "\n",
    "```python\n",
    "list = [1, 5, 8, 7, 17, 78, 4, 91, 12, 1, 0, 3]\n",
    "```"
   ]
  },
  {
   "cell_type": "code",
   "execution_count": null,
   "metadata": {
    "vscode": {
     "languageId": "plaintext"
    }
   },
   "outputs": [],
   "source": []
  },
  {
   "cell_type": "markdown",
   "metadata": {},
   "source": [
    "## Exercise 5\n",
    "\n",
    "Write a program that counts how many times each element appears in a list.\n",
    "\n",
    "```python\n",
    "list = [1, 5, 8, 45, 17, 78, 4, 91, 12, 1, 0, 5, 1, 5, 8, 7, 17, 78, 4, 91, 12, 1, 0, 3]\n",
    "```"
   ]
  },
  {
   "cell_type": "code",
   "execution_count": null,
   "metadata": {
    "vscode": {
     "languageId": "plaintext"
    }
   },
   "outputs": [],
   "source": []
  },
  {
   "cell_type": "markdown",
   "metadata": {},
   "source": [
    "## Exercise 6\n",
    "\n",
    "Write a program that separates a list of numbers into two new lists, one for even numbers and one for odd numbers.\n",
    "\n",
    "```python\n",
    "list = [1, 5, 8, 7, 17, 78, 4, 91, 12, 1, 0, 3]\n",
    "```"
   ]
  },
  {
   "cell_type": "code",
   "execution_count": null,
   "metadata": {
    "vscode": {
     "languageId": "plaintext"
    }
   },
   "outputs": [],
   "source": []
  },
  {
   "cell_type": "markdown",
   "metadata": {},
   "source": [
    "## Exercise 7\n",
    "\n",
    "Write a program that rotates a list by a position.\n",
    "\n",
    "Example:\n",
    "[1, 5, 23, 8] => [8, 23, 5, 1]\n",
    "\n",
    "```python\n",
    "list = [1, 5, 8, 7, 17, 78, 4, 91, 12, 1, 0, 3]\n",
    "```"
   ]
  },
  {
   "cell_type": "code",
   "execution_count": null,
   "metadata": {
    "vscode": {
     "languageId": "plaintext"
    }
   },
   "outputs": [],
   "source": []
  }
 ],
 "metadata": {
  "language_info": {
   "name": "python"
  },
  "orig_nbformat": 4
 },
 "nbformat": 4,
 "nbformat_minor": 2
}
