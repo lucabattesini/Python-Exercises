{
 "cells": [
  {
   "cell_type": "markdown",
   "metadata": {},
   "source": [
    "# Lists and Loops Exercises\n",
    "\n",
    "👨‍💻 Doing\n",
    "✅ Done Successfully\n",
    "⚠️ Done with Errors"
   ]
  },
  {
   "cell_type": "markdown",
   "metadata": {},
   "source": [
    "## Exercise 1 ✅\n",
    "\n",
    "Given a list of numbers, write a program to print each number in the list.\n",
    "\n",
    "```python\n",
    "list = [1, 5, 8, 45, 62, 78, 92, 91, 12, 1, 0, 5]\n",
    "```"
   ]
  },
  {
   "cell_type": "code",
   "execution_count": null,
   "metadata": {},
   "outputs": [],
   "source": [
    "list = [1, 5, 8, 45, 62, 78, 92, 91, 12, 1, 0, 5]\n",
    "\n",
    "for number in list:\n",
    "    print(number)"
   ]
  },
  {
   "cell_type": "markdown",
   "metadata": {},
   "source": [
    "## Exercise 2 ✅\n",
    "\n",
    "Given a list of numbers, write a program that adds up all the numbers in the list and prints the total.\n",
    "\n",
    "```python\n",
    "list = [1, 5, 8, 45, 17, 78, 4, 91, 12, 1, 0, 5]\n",
    "```"
   ]
  },
  {
   "cell_type": "code",
   "execution_count": 9,
   "metadata": {},
   "outputs": [
    {
     "name": "stdout",
     "output_type": "stream",
     "text": [
      "267\n"
     ]
    }
   ],
   "source": [
    "list = [1, 5, 8, 45, 17, 78, 4, 91, 12, 1, 0, 5]\n",
    "x = 0\n",
    "for number in list:\n",
    "    x = x + number\n",
    "print(x)"
   ]
  },
  {
   "cell_type": "markdown",
   "metadata": {},
   "source": [
    "## Exercise 3 ✅\n",
    "\n",
    "Write a program that finds the maximum and minimum values in a list of numbers.\n",
    "\n",
    "```python\n",
    "list = [1, 5, 8, 45, 17, 78, 4, 91, 12, 1, 0, 5]\n",
    "```"
   ]
  },
  {
   "cell_type": "code",
   "execution_count": null,
   "metadata": {},
   "outputs": [],
   "source": [
    "list = [1, 5, 8, 45, 17, 78, 4, 91, 12, 1, 0, 5]\n",
    "min = list[0]\n",
    "max = list[0]\n",
    "for number in list:\n",
    "    \n",
    "    # Use variáveis para armazenar o menor e o maior número\n",
    "    # e depois ir comparando eles com o número atual\n",
    "    if number < min:\n",
    "        min = number\n",
    "    if number > max:\n",
    "        max = number\n",
    "print(\"Menor:\", min)\n",
    "print(\"Maior:\", max)"
   ]
  },
  {
   "cell_type": "markdown",
   "metadata": {},
   "source": [
    "## Exercise 4 ✅\n",
    "\n",
    "Write a program that separates a list of numbers into two new lists, one for even numbers and one for odd numbers.\n",
    "\n",
    "```python\n",
    "list = [1, 5, 8, 7, 17, 78, 4, 91, 12, 1, 0, 3]\n",
    "```"
   ]
  },
  {
   "cell_type": "code",
   "execution_count": null,
   "metadata": {},
   "outputs": [],
   "source": [
    "list = [1, 5, 8, 7, 17, 78, 4, 91, 12, 1, 0, 3]\n",
    "list_even = []\n",
    "list_odd = []\n",
    "\n",
    "for number in list:\n",
    "    if number % 2 == 0:\n",
    "        list_even.append(number)\n",
    "    elif number % 2 != 0:\n",
    "        list_odd.append(number)\n",
    "\n",
    "print(list_even)\n",
    "print(list_odd)"
   ]
  },
  {
   "cell_type": "markdown",
   "metadata": {},
   "source": [
    "## Exercise 5 👨‍💻\n",
    "\n",
    "Write a program that counts how many times each element appears in a list.\n",
    "\n",
    "```python\n",
    "list = [1, 5, 8, 45, 17, 78, 4, 91, 12, 1, 0, 5, 1, 5, 8, 7, 17, 78, 4, 91, 12, 1, 0, 3]\n",
    "```"
   ]
  },
  {
   "cell_type": "code",
   "execution_count": 3,
   "metadata": {},
   "outputs": [
    {
     "name": "stdout",
     "output_type": "stream",
     "text": [
      "[]\n"
     ]
    }
   ],
   "source": [
    "list = [1, 5, 8, 45, 17, 78, 4, 91, 12, 1, 0, 5, 1, 5, 8, 7, 17, 78, 4, 91, 12, 1, 0, 3]\n",
    "lista = []\n",
    "for number in list:\n",
    "     if number == lista:\n",
    "         print(number)\n",
    "     else:\n",
    "            lista.insert(-1, number)\n",
    "print(lista)\n",
    "    # mesma coisa da outra dica, vc pode usar uma variável para ir armazenando o valor somado, como vc fez no exercício 2"
   ]
  },
  {
   "cell_type": "markdown",
   "metadata": {},
   "source": [
    "## Exercise 6 ✅\n",
    "\n",
    "Write a program that rotates a list by a position.\n",
    "\n",
    "Example:\n",
    "[1, 5, 23, 8] => [8, 23, 5, 1]\n",
    "\n",
    "```python\n",
    "list = [1, 5, 8, 7, 17, 78, 4, 91, 12, 1, 0, 3]\n",
    "```"
   ]
  },
  {
   "cell_type": "code",
   "execution_count": null,
   "metadata": {},
   "outputs": [],
   "source": [
    "# Feito!\n",
    "def lista(list) :\n",
    "    new_list=[]\n",
    "    for number in list:\n",
    "        new_list.insert(0, number)\n",
    "        print(new_list)\n",
    "    return new_list\n",
    "# Tentar fazer de outro jeito usando o index (posição) dos items"
   ]
  },
  {
   "cell_type": "markdown",
   "metadata": {},
   "source": [
    "## Exercise 7 ✅\n",
    "\n",
    "Write a program that finds the second largest number in a list.\n",
    "\n",
    "```python\n",
    "list = [1, 5, 8, 45, 17, 78, 4, 91, 12, 1, 0, 5]\n",
    "```"
   ]
  },
  {
   "cell_type": "code",
   "execution_count": null,
   "metadata": {},
   "outputs": [],
   "source": [
    "list = [1, 5, 8, 45, 17, 78, 4, 91, 12, 1, 0, 5]\n",
    "max = list[0]\n",
    "rmax = []\n",
    "for number in list:\n",
    "    if number > max:\n",
    "        max = number\n",
    "        rmax.append(number)\n",
    "print(rmax[-2])\n"
   ]
  },
  {
   "cell_type": "markdown",
   "metadata": {},
   "source": [
    "## Exercise 8 ✅\n",
    "Write a Python program to print the Fibonacci sequence up to 55.\n",
    "\n",
    "![Fibonacci Example](../img/Fibonacci-sequence.png)\n",
    "\n",
    "```python\n",
    "# Fibonacci sequence: 0, 1, 1, 2, 3, 5, 8, 13, 21, 34, ...\n",
    "```"
   ]
  },
  {
   "cell_type": "code",
   "execution_count": null,
   "metadata": {},
   "outputs": [],
   "source": [
    "lista = [0, 1]\n",
    "for number in lista:\n",
    "    last1 = lista[-1]\n",
    "    last2 = lista[-2]\n",
    "    total = int(last1 + last2)\n",
    "    if total <= 55:\n",
    "        lista.append(total)\n",
    "        print(total)\n",
    "    elif total > 55:\n",
    "        print(\"--------------------------------\")\n",
    "\n"
   ]
  },
  {
   "cell_type": "markdown",
   "metadata": {},
   "source": [
    "## Exercise 9 ✅\n",
    "\n",
    "Write a Python program that counts down from a number input by the user and prints \"Time's up!\" when it reaches zero."
   ]
  },
  {
   "cell_type": "code",
   "execution_count": null,
   "metadata": {},
   "outputs": [],
   "source": [
    "max_number = int(input(\"Digite um número\"))\n",
    "for x in range(max_number, -1, -1):\n",
    "    print(x)\n",
    "    if x == 0:\n",
    "        print(\"Time's Up\")"
   ]
  },
  {
   "cell_type": "markdown",
   "metadata": {},
   "source": [
    "## Exercise 10\n",
    "\n",
    "Write a Python program to check if a number is prime in a list."
   ]
  },
  {
   "cell_type": "code",
   "execution_count": 46,
   "metadata": {},
   "outputs": [
    {
     "name": "stdout",
     "output_type": "stream",
     "text": [
      "1\n",
      "3\n",
      "5\n",
      "7\n",
      "9\n"
     ]
    }
   ],
   "source": [
    "list = [1, 2, 3, 4, 5, 6, 7, 8, 9, 10]\n",
    "for number in list:\n",
    "    if number % 2 != 0:\n",
    "        print(number)"
   ]
  },
  {
   "cell_type": "markdown",
   "metadata": {},
   "source": [
    "## Exercise 11\n",
    "\n",
    "Write a Python program to print the following pattern:\n",
    "\n",
    "```\n",
    "*\n",
    "**\n",
    "***\n",
    "****\n",
    "*****\n",
    "```\n"
   ]
  },
  {
   "cell_type": "code",
   "execution_count": null,
   "metadata": {},
   "outputs": [],
   "source": [
    "list = [\"*\"]\n",
    "\n",
    "for asterisco in list:\n",
    "    print(list)\n",
    "    if len(list) < 50:\n",
    "        list.append(\"*\")"
   ]
  },
  {
   "cell_type": "markdown",
   "metadata": {},
   "source": [
    "## Exercise 12\n",
    "\n",
    "Write a Python program that decrypt a message using two lists. The first list contains the alphabet and the second list contains the corresponding letters of the alphabet in order.\n",
    "* Empty pace is Empty Space in both lists.\n",
    "\n",
    "```python\n",
    "alphabet = ['a', 'b', 'c', 'd', 'e', 'f', 'g', 'h', 'i', 'j', 'k', 'l', 'm', 'n', 'o', 'p', 'q', 'r', 's', 't', 'u', 'v', 'w', 'x', 'y', 'z']\n",
    "encrypted_alphabet = ['@', '!', '#', '(', ')', '%', '&', '*', '+', '=', '$', '[', ']', '{', '}', '^', '_', '/', '|', '>', '<', '?', '~', '`', '.', ',', '-']\n",
    "```\n",
    "\n",
    "Messages:\n",
    "\n",
    "```\n",
    "}[@[<#@\n",
    "\n",
    ")|>}<@^/){(){(}@^/}&/@]@/\n",
    "\n",
    "```"
   ]
  },
  {
   "cell_type": "code",
   "execution_count": 8,
   "metadata": {},
   "outputs": [
    {
     "name": "stdout",
     "output_type": "stream",
     "text": [
      "olaluca\n"
     ]
    }
   ],
   "source": [
    "alphabet = ['a', 'b', 'c', 'd', 'e', 'f', 'g', 'h', 'i', 'j', 'k', 'l', 'm', 'n', 'o', 'p', 'q', 'r', 's', 't', 'u', 'v', 'w', 'x', 'y', 'z']\n",
    "encrypted_alphabet = ['@', '!', '#', '(', ')', '%', '&', '*', '+', '=', '$', '[', ']', '{', '}', '^', '_', '/', '|', '>', '<', '?', '~', '`', '.', ',']\n",
    "\n",
    "dencript1 = [\"}\", \"[\", \"@\", \"[\", \"<\", \"#\", \"@\"]\n",
    "dencript2 = [\")\", \"|\", \">\", \"}\", \"<\", \"@\", \"^\", \"/\", \")\", \"{\", \"(\", \")\", \"{\", \"(\", \"}\", \"@\", \"^\", \"/\", \"}\", \"&\", \"/\", \"@\", \"]\", \"@\", \"/\"]\n",
    "\n",
    "texto = \"\"\n",
    "\n",
    "#for number in encrypted_alphabet:\n",
    "    #lista.insert(0, number)\n",
    "for i, letter1 in enumerate(dencript1):\n",
    "    for i2, letter2 in enumerate(encrypted_alphabet):\n",
    "        if letter1 == letter2:\n",
    "            texto += alphabet[i2]\n",
    "\n",
    "print(texto)"
   ]
  },
  {
   "cell_type": "markdown",
   "metadata": {},
   "source": [
    "## Exercise 13\n",
    "\n",
    "Write a Python program that orders a list of numbers from smallest to largest.\n",
    "\n",
    "```python\n",
    "list = [1, 5, 8, 6, 9, 10, 4, 2, 3, 11, 0, 7]\n",
    "```\t"
   ]
  },
  {
   "cell_type": "code",
   "execution_count": 6,
   "metadata": {},
   "outputs": [
    {
     "name": "stdout",
     "output_type": "stream",
     "text": [
      "[0, 1, 2, 3, 4, 5, 6, 7, 8, 9, 10, 11]\n"
     ]
    }
   ],
   "source": [
    "list1 = [1, 5, 8, 6, 9, 10, 4, 2, 3, 11, 0, 7]\n",
    "\n",
    "last = len(list1)\n",
    "\n",
    "for num in range(last + 1):\n",
    "    for i, number in enumerate(list1):\n",
    "        if i == last -1:\n",
    "            continue\n",
    "        if list1[i] > list1[i + 1]:\n",
    "            temp = list1[i]\n",
    "            list1[i] = list1[i + 1]\n",
    "            list1[i + 1] = temp\n",
    "print(list1)"
   ]
  },
  {
   "cell_type": "code",
   "execution_count": null,
   "metadata": {},
   "outputs": [],
   "source": []
  }
 ],
 "metadata": {
  "kernelspec": {
   "display_name": "Python 3",
   "language": "python",
   "name": "python3"
  },
  "language_info": {
   "codemirror_mode": {
    "name": "ipython",
    "version": 3
   },
   "file_extension": ".py",
   "mimetype": "text/x-python",
   "name": "python",
   "nbconvert_exporter": "python",
   "pygments_lexer": "ipython3",
   "version": "3.11.4"
  },
  "orig_nbformat": 4
 },
 "nbformat": 4,
 "nbformat_minor": 2
}
