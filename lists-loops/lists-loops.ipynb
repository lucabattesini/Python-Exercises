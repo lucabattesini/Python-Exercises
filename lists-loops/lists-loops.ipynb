{
 "cells": [
  {
   "cell_type": "markdown",
   "metadata": {},
   "source": [
    "# Lists and Loops Exercises"
   ]
  },
  {
   "cell_type": "markdown",
   "metadata": {},
   "source": [
    "## Exercise 1\n",
    "\n",
    "Given a list of numbers, write a program to print each number in the list.\n",
    "\n",
    "```python\n",
    "list = [1, 5, 8, 45, 62, 78, 92, 91, 12, 1, 0, 5]\n",
    "```"
   ]
  },
  {
   "cell_type": "code",
   "execution_count": null,
   "metadata": {},
   "outputs": [],
   "source": [
    "list = [1, 5, 8, 45, 62, 78, 92, 91, 12, 1, 0, 5]\n",
    "\n",
    "for number in list:\n",
    "    print(number)"
   ]
  },
  {
   "cell_type": "markdown",
   "metadata": {},
   "source": [
    "## Exercise 2\n",
    "\n",
    "Given a list of numbers, write a program that adds up all the numbers in the list and prints the total.\n",
    "\n",
    "```python\n",
    "list = [1, 5, 8, 45, 17, 78, 4, 91, 12, 1, 0, 5]\n",
    "```"
   ]
  },
  {
   "cell_type": "code",
   "execution_count": null,
   "metadata": {},
   "outputs": [],
   "source": [
    "list = [1, 5, 8, 45, 17, 78, 4, 91, 12, 1, 0, 5]\n",
    "for number in list:\n",
    "    x = x + number\n",
    "print(x)"
   ]
  },
  {
   "cell_type": "markdown",
   "metadata": {},
   "source": [
    "## Exercise 3\n",
    "\n",
    "Write a program that finds the maximum and minimum values in a list of numbers.\n",
    "\n",
    "```python\n",
    "list = [1, 5, 8, 45, 17, 78, 4, 91, 12, 1, 0, 5]\n",
    "```"
   ]
  },
  {
   "cell_type": "code",
   "execution_count": 8,
   "metadata": {},
   "outputs": [
    {
     "name": "stdout",
     "output_type": "stream",
     "text": [
      "Maior numero: 91\n",
      "Menor número 0\n"
     ]
    }
   ],
   "source": [
    "list = [1, 5, 8, 45, 17, 78, 4, 91, 12, 1, 0, 5]\n",
    "for number in list:\n",
    "    \n",
    "    # Use variáveis para armazenar o menor e o maior número\n",
    "    # e depois ir comparando eles com o número atual\n",
    "    min = 0\n",
    "    max = 0\n",
    "\n",
    "    # Não usar min e max\n",
    "    if number == min(list):\n",
    "        print(\"Menor número\", number)\n",
    "    # Não usar min e max\n",
    "    elif number == max(list):\n",
    "        print(\"Maior numero:\", number)"
   ]
  },
  {
   "cell_type": "markdown",
   "metadata": {},
   "source": [
    "## Exercise 4\n",
    "\n",
    "Write a program that separates a list of numbers into two new lists, one for even numbers and one for odd numbers.\n",
    "\n",
    "```python\n",
    "list = [1, 5, 8, 7, 17, 78, 4, 91, 12, 1, 0, 3]\n",
    "```"
   ]
  },
  {
   "cell_type": "code",
   "execution_count": 1,
   "metadata": {},
   "outputs": [
    {
     "name": "stdout",
     "output_type": "stream",
     "text": [
      "[8, 78, 4, 12, 0]\n",
      "[1, 5, 7, 17, 91, 1, 3]\n"
     ]
    }
   ],
   "source": [
    "list = [1, 5, 8, 7, 17, 78, 4, 91, 12, 1, 0, 3]\n",
    "list_even = []\n",
    "list_odd = []\n",
    "\n",
    "for number in list:\n",
    "    if number % 2 == 0:\n",
    "        list_even.append(number)\n",
    "    elif number % 2 != 0:\n",
    "        list_odd.append(number)\n",
    "\n",
    "print(list_even)\n",
    "print(list_odd)"
   ]
  },
  {
   "cell_type": "markdown",
   "metadata": {},
   "source": [
    "## Exercise 5\n",
    "\n",
    "Write a program that counts how many times each element appears in a list.\n",
    "\n",
    "```python\n",
    "list = [1, 5, 8, 45, 17, 78, 4, 91, 12, 1, 0, 5, 1, 5, 8, 7, 17, 78, 4, 91, 12, 1, 0, 3]\n",
    "```"
   ]
  },
  {
   "cell_type": "code",
   "execution_count": null,
   "metadata": {},
   "outputs": [],
   "source": [
    "list = [1, 5, 8, 45, 17, 78, 4, 91, 12, 1, 0, 5, 1, 5, 8, 7, 17, 78, 4, 91, 12, 1, 0, 3]\n",
    "for index, number in list:\n",
    "    # mesma coisa da outra dica, vc pode usar uma variável para ir armazenando o valor somado, como vc fez no exercício 2\n",
    "    if number = "
   ]
  },
  {
   "cell_type": "markdown",
   "metadata": {},
   "source": [
    "## Exercise 6\n",
    "\n",
    "Write a program that rotates a list by a position.\n",
    "\n",
    "Example:\n",
    "[1, 5, 23, 8] => [8, 23, 5, 1]\n",
    "\n",
    "```python\n",
    "list = [1, 5, 8, 7, 17, 78, 4, 91, 12, 1, 0, 3]\n",
    "```"
   ]
  },
  {
   "cell_type": "code",
   "execution_count": 2,
   "metadata": {},
   "outputs": [
    {
     "name": "stdout",
     "output_type": "stream",
     "text": [
      "[3, 0, 1, 12, 91, 4, 78, 17, 7, 8, 5, 1]\n"
     ]
    }
   ],
   "source": [
    "list = [1, 5, 8, 7, 17, 78, 4, 91, 12, 1, 0, 3]\n",
    "new_list=[]\n",
    "\n",
    "# Feito!\n",
    "for number in list:\n",
    "    new_list.insert(0, number)\n",
    "print(new_list)\n",
    "\n",
    "# Tentar fazer de outro jeito usando o index (posição) dos items"
   ]
  },
  {
   "cell_type": "markdown",
   "metadata": {},
   "source": [
    "## Exercise 7\n",
    "\n",
    "Write a program that finds the second largest number in a list.\n",
    "\n",
    "```python\n",
    "list = [1, 5, 8, 45, 17, 78, 4, 91, 12, 1, 0, 5]\n",
    "```"
   ]
  },
  {
   "cell_type": "code",
   "execution_count": null,
   "metadata": {},
   "outputs": [],
   "source": []
  },
  {
   "cell_type": "markdown",
   "metadata": {},
   "source": [
    "## Exercise 8\n",
    "Write a Python program to print the Fibonacci sequence up to 55.\n",
    "\n",
    "![Fibonacci Example](../img/Fibonacci-sequence.png)\n",
    "\n",
    "```python\n",
    "# Fibonacci sequence: 0, 1, 1, 2, 3, 5, 8, 13, 21, 34, ...\n",
    "```"
   ]
  },
  {
   "cell_type": "code",
   "execution_count": null,
   "metadata": {},
   "outputs": [],
   "source": []
  },
  {
   "cell_type": "markdown",
   "metadata": {},
   "source": [
    "## Exercise 9\n",
    "\n",
    "Write a Python program that counts down from a number input by the user and prints \"Time's up!\" when it reaches zero."
   ]
  },
  {
   "cell_type": "code",
   "execution_count": null,
   "metadata": {},
   "outputs": [],
   "source": []
  },
  {
   "cell_type": "markdown",
   "metadata": {},
   "source": [
    "## Exercise 10\n",
    "\n",
    "Write a Python program to check if a number is prime."
   ]
  },
  {
   "cell_type": "code",
   "execution_count": null,
   "metadata": {},
   "outputs": [],
   "source": []
  },
  {
   "cell_type": "markdown",
   "metadata": {},
   "source": [
    "## Exercise 11\n",
    "\n",
    "Write a Python program to print the following pattern:\n",
    "\n",
    "*\n",
    "**\n",
    "***\n",
    "****\n",
    "*****\n",
    "\n"
   ]
  },
  {
   "cell_type": "code",
   "execution_count": null,
   "metadata": {},
   "outputs": [],
   "source": []
  }
 ],
 "metadata": {
  "kernelspec": {
   "display_name": "Python 3",
   "language": "python",
   "name": "python3"
  },
  "language_info": {
   "codemirror_mode": {
    "name": "ipython",
    "version": 3
   },
   "file_extension": ".py",
   "mimetype": "text/x-python",
   "name": "python",
   "nbconvert_exporter": "python",
   "pygments_lexer": "ipython3",
   "version": "3.9.2"
  },
  "orig_nbformat": 4
 },
 "nbformat": 4,
 "nbformat_minor": 2
}
